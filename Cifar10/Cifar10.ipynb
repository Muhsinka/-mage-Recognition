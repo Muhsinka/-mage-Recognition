{
 "cells": [
  {
   "cell_type": "code",
   "execution_count": 6,
   "metadata": {},
   "outputs": [],
   "source": [
    "import torch\n",
    "import torchvision\n",
    "import torchvision.transforms as transforms"
   ]
  },
  {
   "cell_type": "code",
   "execution_count": 7,
   "metadata": {},
   "outputs": [
    {
     "name": "stdout",
     "output_type": "stream",
     "text": [
      "Files already downloaded and verified\n",
      "Files already downloaded and verified\n"
     ]
    }
   ],
   "source": [
    "transform = transforms.Compose(\n",
    "    [transforms.ToTensor(),\n",
    "     transforms.Normalize((0.5, 0.5, 0.5), (0.5, 0.5, 0.5))])\n",
    "\n",
    "trainset = torchvision.datasets.CIFAR10(root='./data', train=True,\n",
    "                                        download=True, transform=transform)\n",
    "trainloader = torch.utils.data.DataLoader(trainset, batch_size=4,\n",
    "                                          shuffle=True, num_workers=2)\n",
    "\n",
    "testset = torchvision.datasets.CIFAR10(root='./data', train=False,\n",
    "                                       download=True, transform=transform)\n",
    "testloader = torch.utils.data.DataLoader(testset, batch_size=4,\n",
    "                                         shuffle=False, num_workers=2)\n",
    "\n",
    "classes = ('plane', 'car', 'bird', 'cat',\n",
    "           'deer', 'dog', 'frog', 'horse', 'ship', 'truck')"
   ]
  },
  {
   "cell_type": "code",
   "execution_count": 8,
   "metadata": {},
   "outputs": [],
   "source": [
    "import matplotlib.pyplot as plt\n",
    "import numpy as np"
   ]
  },
  {
   "cell_type": "code",
   "execution_count": 9,
   "metadata": {},
   "outputs": [
    {
     "data": {
      "image/png": "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\n",
      "text/plain": [
       "<Figure size 432x288 with 1 Axes>"
      ]
     },
     "metadata": {
      "needs_background": "light"
     },
     "output_type": "display_data"
    },
    {
     "name": "stdout",
     "output_type": "stream",
     "text": [
      " ship   cat horse  frog\n"
     ]
    }
   ],
   "source": [
    "def imshow(img):\n",
    "    img = img / 2 + 0.5     # unnormalize\n",
    "    npimg = img.numpy()\n",
    "    plt.imshow(np.transpose(npimg, (1, 2, 0)))\n",
    "    plt.show()\n",
    "\n",
    "\n",
    "# get some random training images\n",
    "dataiter = iter(trainloader)\n",
    "images, labels = dataiter.next()\n",
    "\n",
    "# show images\n",
    "imshow(torchvision.utils.make_grid(images))\n",
    "# print labels\n",
    "print(' '.join('%5s' % classes[labels[j]] for j in range(4)))"
   ]
  },
  {
   "cell_type": "code",
   "execution_count": 1,
   "metadata": {},
   "outputs": [
    {
     "data": {
      "text/plain": [
       "Net(\n",
       "  (conv1): Conv2d(3, 6, kernel_size=(5, 5), stride=(1, 1))\n",
       "  (pool): MaxPool2d(kernel_size=2, stride=2, padding=0, dilation=1, ceil_mode=False)\n",
       "  (conv2): Conv2d(6, 16, kernel_size=(5, 5), stride=(1, 1))\n",
       "  (fc1): Linear(in_features=400, out_features=120, bias=True)\n",
       "  (fc2): Linear(in_features=120, out_features=84, bias=True)\n",
       "  (fc3): Linear(in_features=84, out_features=10, bias=True)\n",
       ")"
      ]
     },
     "execution_count": 1,
     "metadata": {},
     "output_type": "execute_result"
    }
   ],
   "source": [
    "import torch.nn as nn\n",
    "import torch.nn.functional as F\n",
    "\n",
    "\n",
    "class Net(nn.Module):\n",
    "    def __init__(self):\n",
    "        super(Net, self).__init__()\n",
    "        self.conv1 = nn.Conv2d(3, 6, 5)\n",
    "        self.pool = nn.MaxPool2d(2, 2)\n",
    "        self.conv2 = nn.Conv2d(6, 16, 5)\n",
    "        self.fc1 = nn.Linear(16 * 5 * 5, 120)\n",
    "        self.fc2 = nn.Linear(120, 84)\n",
    "        self.fc3 = nn.Linear(84, 10)\n",
    "\n",
    "    def forward(self, x):\n",
    "        x = self.pool(F.relu(self.conv1(x)))\n",
    "        x = self.pool(F.relu(self.conv2(x)))\n",
    "        x = x.view(-1, 16 * 5 * 5)\n",
    "        x = F.relu(self.fc1(x)) \n",
    "        x = F.relu(self.fc2(x))\n",
    "        x = self.fc3(x)\n",
    "        return x\n",
    "\n",
    "\n",
    "net = Net()\n",
    "net"
   ]
  },
  {
   "cell_type": "code",
   "execution_count": 14,
   "metadata": {},
   "outputs": [],
   "source": [
    "import torch.optim as optim\n",
    "\n",
    "criterion = nn.CrossEntropyLoss()\n",
    "optimizer = optim.SGD(net.parameters(), lr=0.001, momentum=0.9)"
   ]
  },
  {
   "cell_type": "code",
   "execution_count": 15,
   "metadata": {
    "scrolled": true
   },
   "outputs": [
    {
     "name": "stdout",
     "output_type": "stream",
     "text": [
      "[1,  2000] loss: 2.207\n",
      "[1,  4000] loss: 1.837\n",
      "[1,  6000] loss: 1.671\n",
      "[1,  8000] loss: 1.570\n",
      "[1, 10000] loss: 1.515\n",
      "[1, 12000] loss: 1.431\n",
      "[2,  2000] loss: 1.378\n",
      "[2,  4000] loss: 1.385\n",
      "[2,  6000] loss: 1.341\n",
      "[2,  8000] loss: 1.314\n",
      "[2, 10000] loss: 1.278\n",
      "[2, 12000] loss: 1.277\n",
      "Finished Training\n"
     ]
    }
   ],
   "source": [
    "for epoch in range(2):  # loop over the dataset multiple times\n",
    "\n",
    "    running_loss = 0.0\n",
    "    for i, data in enumerate(trainloader, 0):\n",
    "        # get the inputs; data is a list of [inputs, labels]\n",
    "        inputs, labels = data\n",
    "\n",
    "        # zero the parameter gradients\n",
    "        optimizer.zero_grad()\n",
    "\n",
    "        # forward + backward + optimize\n",
    "        outputs = net(inputs)\n",
    "        loss = criterion(outputs, labels)\n",
    "        loss.backward()\n",
    "        optimizer.step() \n",
    "\n",
    "        # print statistics\n",
    "        running_loss += loss.item()\n",
    "        if i % 2000 == 1999:    # print every 2000 mini-batches\n",
    "            print('[%d, %5d] loss: %.3f' %\n",
    "                  (epoch + 1, i + 1, running_loss / 2000))\n",
    "            running_loss = 0.0\n",
    "\n",
    "print('Finished Training')"
   ]
  },
  {
   "cell_type": "code",
   "execution_count": 8,
   "metadata": {},
   "outputs": [
    {
     "data": {
      "image/png": "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\n",
      "text/plain": [
       "<Figure size 432x288 with 1 Axes>"
      ]
     },
     "metadata": {
      "needs_background": "light"
     },
     "output_type": "display_data"
    },
    {
     "name": "stdout",
     "output_type": "stream",
     "text": [
      "GroundTruth:    cat  ship  ship plane\n"
     ]
    }
   ],
   "source": [
    "dataiter = iter(testloader)\n",
    "images, labels = dataiter.next()\n",
    "\n",
    "# print images\n",
    "imshow(torchvision.utils.make_grid(images))\n",
    "print('GroundTruth: ', ' '.join('%5s' % classes[labels[j]] for j in range(4)))"
   ]
  },
  {
   "cell_type": "code",
   "execution_count": 9,
   "metadata": {},
   "outputs": [
    {
     "name": "stdout",
     "output_type": "stream",
     "text": [
      "Predicted:    cat  ship  ship  ship\n"
     ]
    }
   ],
   "source": [
    "outputs = net(images)\n",
    "_, predicted = torch.max(outputs, 1)\n",
    "\n",
    "print('Predicted: ', ' '.join('%5s' % classes[predicted[j]]\n",
    "                              for j in range(4)))"
   ]
  },
  {
   "cell_type": "code",
   "execution_count": 10,
   "metadata": {},
   "outputs": [
    {
     "name": "stdout",
     "output_type": "stream",
     "text": [
      "Accuracy of the network on the 10000 test images: 52 %\n"
     ]
    }
   ],
   "source": [
    "correct = 0\n",
    "total = 0\n",
    "with torch.no_grad():\n",
    "    for data in testloader:\n",
    "        images, labels = data\n",
    "        outputs = net(images)\n",
    "        _, predicted = torch.max(outputs.data, 1)\n",
    "        total += labels.size(0)\n",
    "        correct += (predicted == labels).sum().item()\n",
    "\n",
    "print('Accuracy of the network on the 10000 test images: %d %%' % (\n",
    "    100 * correct / total))"
   ]
  },
  {
   "cell_type": "code",
   "execution_count": 11,
   "metadata": {},
   "outputs": [
    {
     "name": "stdout",
     "output_type": "stream",
     "text": [
      "Accuracy of plane : 45 %\n",
      "Accuracy of   car : 62 %\n",
      "Accuracy of  bird : 16 %\n",
      "Accuracy of   cat : 56 %\n",
      "Accuracy of  deer : 52 %\n",
      "Accuracy of   dog : 37 %\n",
      "Accuracy of  frog : 49 %\n",
      "Accuracy of horse : 59 %\n",
      "Accuracy of  ship : 77 %\n",
      "Accuracy of truck : 62 %\n"
     ]
    }
   ],
   "source": [
    "class_correct = list(0. for i in range(10))\n",
    "class_total = list(0. for i in range(10))\n",
    "with torch.no_grad():\n",
    "    for data in testloader:\n",
    "        images, labels = data\n",
    "        outputs = net(images)\n",
    "        _, predicted = torch.max(outputs, 1)\n",
    "        c = (predicted == labels).squeeze()\n",
    "        for i in range(4):\n",
    "            label = labels[i]\n",
    "            class_correct[label] += c[i].item()\n",
    "            class_total[label] += 1\n",
    "\n",
    "\n",
    "for i in range(10):\n",
    "    print('Accuracy of %5s : %2d %%' % (\n",
    "        classes[i], 100 * class_correct[i] / class_total[i]))"
   ]
  },
  {
   "cell_type": "code",
   "execution_count": 12,
   "metadata": {},
   "outputs": [
    {
     "name": "stdout",
     "output_type": "stream",
     "text": [
      "cuda:0\n"
     ]
    }
   ],
   "source": [
    "device = torch.device(\"cuda:0\" if torch.cuda.is_available() else \"cpu\")\n",
    "print(device)"
   ]
  }
 ],
 "metadata": {
  "kernelspec": {
   "display_name": "Python 3",
   "language": "python",
   "name": "python3"
  },
  "language_info": {
   "codemirror_mode": {
    "name": "ipython",
    "version": 3
   },
   "file_extension": ".py",
   "mimetype": "text/x-python",
   "name": "python",
   "nbconvert_exporter": "python",
   "pygments_lexer": "ipython3",
   "version": "3.7.0"
  }
 },
 "nbformat": 4,
 "nbformat_minor": 2
}
-
